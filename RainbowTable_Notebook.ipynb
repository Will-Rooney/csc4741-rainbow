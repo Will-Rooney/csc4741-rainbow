{
 "cells": [
  {
   "cell_type": "markdown",
   "metadata": {},
   "source": [
    "# CSCI 4741 - Rainbow Tables\n",
    "#### Team Members:\n",
    "    Will Rooney\n",
    "    Howard Van Dam\n",
    "    Jonathan Trejo"
   ]
  },
  {
   "cell_type": "markdown",
   "metadata": {},
   "source": [
    "<b>To-Do: Describe Rainbow Tables and their use</b>"
   ]
  },
  {
   "cell_type": "markdown",
   "metadata": {},
   "source": [
    "<b>Chain calculation example: To-Do: elaborate on chain creation</b>"
   ]
  },
  {
   "cell_type": "code",
   "execution_count": 1,
   "metadata": {
    "collapsed": false
   },
   "outputs": [
    {
     "name": "stdout",
     "output_type": "stream",
     "text": [
      "     1234 --> 81dc9bdb52d04dc20036dbd8313ed055 --> R1\n",
      " --> 3055 --> 2836be05e71a8f34902a6e6b37350134 --> R2\n",
      " --> 0135 --> a2a68c298479b64a8536d0fd7c479ee1 --> R3\n",
      " --> 4793 --> b28d8e3ccb1ff9d46fa2d9e70222c9e7 --> R4\n",
      " --> 2300 --> 46a558d97954d0692411c861cf78ef79 --> R5 --> 7883\n"
     ]
    }
   ],
   "source": [
    "import RainbowTable\n",
    "rainbowTable = RainbowTable.RainbowTable()\n",
    "print(rainbowTable.getExampleChain(plaintext='1234', k=5))"
   ]
  },
  {
   "cell_type": "markdown",
   "metadata": {},
   "source": [
    "<b>To-Do: Describe the chain above</b>"
   ]
  },
  {
   "cell_type": "markdown",
   "metadata": {},
   "source": [
    "<b>Input a password:</b>"
   ]
  },
  {
   "cell_type": "code",
   "execution_count": 2,
   "metadata": {
    "collapsed": true
   },
   "outputs": [],
   "source": [
    "password = '1234'"
   ]
  },
  {
   "cell_type": "markdown",
   "metadata": {},
   "source": [
    "<b>Create the MD5 hash:</b>"
   ]
  },
  {
   "cell_type": "code",
   "execution_count": 3,
   "metadata": {
    "collapsed": false
   },
   "outputs": [],
   "source": [
    "import hashlib\n",
    "passHash = hashlib.md5(password.encode()).hexdigest()"
   ]
  },
  {
   "cell_type": "markdown",
   "metadata": {},
   "source": [
    "Result:"
   ]
  },
  {
   "cell_type": "code",
   "execution_count": 4,
   "metadata": {
    "collapsed": false
   },
   "outputs": [
    {
     "name": "stdout",
     "output_type": "stream",
     "text": [
      "81dc9bdb52d04dc20036dbd8313ed055\n"
     ]
    }
   ],
   "source": [
    "print passHash"
   ]
  },
  {
   "cell_type": "markdown",
   "metadata": {},
   "source": [
    "Load a pre-computed rainbow table:"
   ]
  },
  {
   "cell_type": "code",
   "execution_count": 5,
   "metadata": {
    "collapsed": true
   },
   "outputs": [],
   "source": [
    "rainbowTable.load('rainbowTable_len4_k100.txt')"
   ]
  },
  {
   "cell_type": "markdown",
   "metadata": {},
   "source": [
    "The Rainbow Table:"
   ]
  },
  {
   "cell_type": "code",
   "execution_count": 6,
   "metadata": {
    "collapsed": false
   },
   "outputs": [
    {
     "name": "stdout",
     "output_type": "stream",
     "text": [
      "0239 \t7462\n",
      "0238 \t6749\n",
      "0038 \t3849\n",
      "0133 \t4092\n",
      "1780 \t6413\n",
      "0232 \t3080\n",
      "0037 \t5674\n",
      "0031 \t4835\n",
      "0139 \t4799\n",
      "0033 \t7754\n",
      "0032 \t6838\n",
      "0131 \t1385\n",
      "0543 \t1123\n",
      "1145 \t6487\n",
      "0035 \t8063\n",
      "0142 \t0051\n",
      "0144 \t9780\n",
      "0309 \t3719\n",
      "0146 \t0777\n",
      "0149 \t3696\n",
      "0148 \t8572\n",
      "0305 \t1410\n",
      "0304 \t8928\n",
      "0231 \t7094\n",
      "0203 \t4085\n",
      "0049 \t7990\n",
      "0125 \t9625\n",
      "0122 \t1201\n",
      "0121 \t8542\n",
      "0040 \t1278\n",
      "0138 \t3391\n",
      "0043 \t1317\n",
      "1797 \t2453\n",
      "0045 \t4577\n",
      "0128 \t2633\n",
      "0235 \t9270\n",
      "0430 \t7242\n",
      "0715 \t2252\n",
      "1875 \t0408\n",
      "0030 \t6221\n",
      "0337 \t2654\n",
      "0058 \t4750\n",
      "0116 \t0646\n",
      "0115 \t6431\n",
      "0053 \t3546\n",
      "0052 \t6174\n",
      "0051 \t9749\n",
      "0119 \t1547\n",
      "0057 \t7418\n",
      "0055 \t9243\n",
      "0021 \t7122\n",
      "0026 \t5294\n",
      "1904 \t6601\n",
      "0136 \t8674\n",
      "0326 \t7965\n",
      "0289 \t0263\n",
      "0282 \t6620\n",
      "0328 \t9912\n",
      "0280 \t0625\n",
      "1421 \t5567\n",
      "0207 \t4213\n",
      "0990 \t4327\n",
      "0449 \t8792\n",
      "0751 \t2911\n",
      "0267 \t4813\n",
      "0109 \t6166\n",
      "0105 \t2925\n",
      "0104 \t6514\n",
      "0106 \t0332\n",
      "0268 \t0619\n",
      "0100 \t0314\n",
      "0241 \t9343\n",
      "0389 \t6878\n",
      "0903 \t2797\n",
      "0865 \t6953\n",
      "7717 \t2425\n",
      "1663 \t8405\n",
      "0295 \t8740\n",
      "0513 \t5713\n",
      "0451 \t8611\n",
      "0199 \t9606\n",
      "0740 \t7596\n",
      "0456 \t5190\n",
      "0194 \t1994\n",
      "0276 \t5673\n",
      "0272 \t1894\n",
      "0016 \t5934\n",
      "0170 \t8074\n",
      "0172 \t6619\n",
      "0173 \t7551\n",
      "0175 \t7735\n",
      "0279 \t9313\n",
      "0177 \t7004\n",
      "0111 \t0442\n",
      "0364 \t6780\n",
      "0873 \t4693\n",
      "0258 \t5529\n",
      "0185 \t1535\n",
      "0340 \t6401\n",
      "0183 \t6157\n",
      "0099 \t8135\n",
      "3517 \t6165\n",
      "0507 \t0454\n",
      "0067 \t8424\n",
      "0065 \t7720\n",
      "0062 \t6793\n",
      "0063 \t8024\n",
      "0060 \t9706\n",
      "0588 \t5196\n",
      "0147 \t6506\n",
      "0068 \t6367\n",
      "0069 \t4066\n",
      "0004 \t8637\n",
      "0005 \t0997\n",
      "1359 \t6111\n",
      "0007 \t5725\n",
      "0000 \t5705\n",
      "0001 \t1459\n",
      "0002 \t3665\n",
      "0003 \t4613\n",
      "0161 \t1313\n",
      "1219 \t1261\n",
      "0008 \t6300\n",
      "0009 \t0487\n",
      "0474 \t0944\n",
      "0477 \t2619\n",
      "4833 \t6783\n",
      "0372 \t3068\n",
      "0070 \t2356\n",
      "0793 \t2313\n",
      "0290 \t9491\n",
      "0078 \t8835\n",
      "1742 \t5316\n",
      "0017 \t9298\n",
      "0242 \t2872\n",
      "0499 \t7088\n",
      "0014 \t3119\n",
      "0013 \t8496\n",
      "0012 \t1320\n",
      "0011 \t6204\n",
      "0010 \t6859\n",
      "0492 \t6544\n",
      "0398 \t6374\n",
      "0006 \t8770\n",
      "0253 \t3176\n",
      "0018 \t3452\n",
      "1211 \t0628\n",
      "0951 \t5388\n",
      "0244 \t1819\n",
      "0407 \t4514\n",
      "0659 \t5303\n",
      "0365 \t3698\n",
      "0626 \t4172\n",
      "0719 \t9037\n",
      "0041 \t5654\n",
      "0084 \t5839\n",
      "0085 \t8978\n",
      "0086 \t8536\n",
      "5928 \t2676\n",
      "0081 \t5878\n",
      "0082 \t2638\n",
      "0153 \t6609\n",
      "0023 \t1705\n",
      "0020 \t3415\n",
      "0249 \t4446\n",
      "0383 \t4632\n",
      "0027 \t9144\n",
      "0024 \t2975\n",
      "0025 \t7996\n",
      "0044 \t7363\n",
      "0028 \t6951\n",
      "0029 \t6706\n",
      "1276 \t5125\n",
      "0227 \t7226\n",
      "3351 \t7288\n",
      "0193 \t0151\n",
      "2972 \t5981\n",
      "0047 \t6495\n",
      "0419 \t3048\n",
      "0826 \t7979\n",
      "1364 \t6215\n",
      "1682 \t0257\n",
      "0152 \t0855\n",
      "0091 \t2119\n",
      "0622 \t4102\n",
      "0098 \t5001\n",
      "0095 \t2974\n",
      "0093 \t7973\n",
      "0092 \t9421\n",
      "0158 \t3244\n",
      "0090 \t5588\n"
     ]
    }
   ],
   "source": [
    "for start,end in rainbowTable.table.items(): print start,'\\t',end"
   ]
  },
  {
   "cell_type": "markdown",
   "metadata": {},
   "source": [
    "Attempt to crack the password:"
   ]
  },
  {
   "cell_type": "code",
   "execution_count": 7,
   "metadata": {
    "collapsed": false
   },
   "outputs": [
    {
     "name": "stdout",
     "output_type": "stream",
     "text": [
      "Attack failed.\n"
     ]
    }
   ],
   "source": [
    "if rainbowTable.crack(passHash):\n",
    "    print 'Success! Your password is:',rainbowTable.password\n",
    "else:\n",
    "    print 'Attack failed.'"
   ]
  },
  {
   "cell_type": "markdown",
   "metadata": {},
   "source": [
    "If the attack failed, let's load another rainbow table that has a similar success rate:"
   ]
  },
  {
   "cell_type": "code",
   "execution_count": 8,
   "metadata": {
    "collapsed": false
   },
   "outputs": [
    {
     "name": "stdout",
     "output_type": "stream",
     "text": [
      "Success! Your password is: 1234\n"
     ]
    }
   ],
   "source": [
    "rainbowTable.load('rainbowTable_len4_k99.txt')\n",
    "\n",
    "if rainbowTable.crack(passHash):\n",
    "    print 'Success! Your password is:',rainbowTable.password\n",
    "else:\n",
    "    print 'Attack failed.'"
   ]
  },
  {
   "cell_type": "markdown",
   "metadata": {},
   "source": [
    "Full example where the password we are trying to find is '01234':"
   ]
  },
  {
   "cell_type": "code",
   "execution_count": 9,
   "metadata": {
    "collapsed": false
   },
   "outputs": [
    {
     "name": "stdout",
     "output_type": "stream",
     "text": [
      "Attempting to crack 3 character password with hash: 4100c4d44da9177247e44a5fc1546778\n",
      "Attack failed: trying new table\n",
      "Three character password attack failed\n",
      "\n",
      "Attempting to crack 4 character password with hash: 4100c4d44da9177247e44a5fc1546778\n",
      "Attack failed: trying new table\n",
      "Four character password attack failed\n",
      "\n",
      "Attempting to crack 5 character password with hash: 4100c4d44da9177247e44a5fc1546778\n",
      "Found password: 01234 \n",
      "\n",
      "Execution time: 0.504 seconds\n",
      "\n"
     ]
    }
   ],
   "source": [
    "import timeit\n",
    "start = timeit.default_timer()\n",
    "\n",
    "RainbowTable.crackPassExample()\n",
    "\n",
    "stop = timeit.default_timer()\n",
    "print 'Execution time:',format(stop-start,'3.3f'),'seconds\\n'"
   ]
  }
 ],
 "metadata": {
  "anaconda-cloud": {},
  "kernelspec": {
   "display_name": "Python [default]",
   "language": "python",
   "name": "python2"
  },
  "language_info": {
   "codemirror_mode": {
    "name": "ipython",
    "version": 2
   },
   "file_extension": ".py",
   "mimetype": "text/x-python",
   "name": "python",
   "nbconvert_exporter": "python",
   "pygments_lexer": "ipython2",
   "version": "2.7.12"
  }
 },
 "nbformat": 4,
 "nbformat_minor": 1
}
